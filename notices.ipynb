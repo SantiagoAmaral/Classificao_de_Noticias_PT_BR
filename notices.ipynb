{
 "cells": [
  {
   "cell_type": "markdown",
   "metadata": {},
   "source": [
    "# Desafio - Classificação de notícias (BBC News)\n",
    "* Alisson Santiago Amaral\n",
    "\n",
    "A partir de notícias publicadas no website BBC News ( http://news.bbc.co.uk/), no período de 2004 a 2005, desenvolver um modelo de aprendizado de máquina baseado em classificação de texto que permita identificar o tema ao qual a notícia pertence: Esporte, Política, Negócio, Entretenimento ou Tecnologia.\n",
    "\n",
    "\n",
    "Observações:\n",
    "* O dataset bbc_news.csv segue anexo;\n",
    "* Cada notícia possui somente um tema (os temas são mutuamente exclusivos);"
   ]
  },
  {
   "cell_type": "markdown",
   "metadata": {},
   "source": [
    "## Importes bibliotecas iniciais"
   ]
  },
  {
   "cell_type": "code",
   "execution_count": 1,
   "metadata": {},
   "outputs": [
    {
     "name": "stderr",
     "output_type": "stream",
     "text": [
      "[nltk_data] Downloading package punkt to\n",
      "[nltk_data]     C:\\Users\\aliss\\AppData\\Roaming\\nltk_data...\n",
      "[nltk_data]   Package punkt is already up-to-date!\n",
      "[nltk_data] Downloading package stopwords to\n",
      "[nltk_data]     C:\\Users\\aliss\\AppData\\Roaming\\nltk_data...\n",
      "[nltk_data]   Package stopwords is already up-to-date!\n",
      "[nltk_data] Downloading package wordnet to\n",
      "[nltk_data]     C:\\Users\\aliss\\AppData\\Roaming\\nltk_data...\n",
      "[nltk_data]   Package wordnet is already up-to-date!\n"
     ]
    }
   ],
   "source": [
    "import pandas as pd\n",
    "pd.set_option('max_colwidth', 320)\n",
    "import re\n",
    "\n",
    "import nltk\n",
    "from nltk.tokenize import RegexpTokenizer\n",
    "nltk.download('punkt')\n",
    "nltk.download('stopwords')\n",
    "nltk.download('wordnet')\n",
    "\n",
    "import spacy\n",
    "from spacy import displacy"
   ]
  },
  {
   "cell_type": "markdown",
   "metadata": {},
   "source": [
    "## Pre-tratamento de dados"
   ]
  },
  {
   "cell_type": "markdown",
   "metadata": {},
   "source": [
    "### Ler arquivo csv e substituir '/n'"
   ]
  },
  {
   "cell_type": "code",
   "execution_count": 2,
   "metadata": {},
   "outputs": [],
   "source": [
    "dados = pd.read_csv('./bbc_news.csv', encoding='utf-8', delimiter=';')"
   ]
  },
  {
   "cell_type": "code",
   "execution_count": 3,
   "metadata": {},
   "outputs": [],
   "source": [
    "remover_breaklines = lambda x : x.replace('\\n\\n', ' ')\n",
    "dados['Content'] = dados['Content'].apply(remover_breaklines)"
   ]
  },
  {
   "cell_type": "code",
   "execution_count": 4,
   "metadata": {},
   "outputs": [],
   "source": [
    "nlp = spacy.load('en_core_web_sm')"
   ]
  },
  {
   "cell_type": "code",
   "execution_count": 5,
   "metadata": {},
   "outputs": [
    {
     "data": {
      "text/html": [
       "<div>\n",
       "<style scoped>\n",
       "    .dataframe tbody tr th:only-of-type {\n",
       "        vertical-align: middle;\n",
       "    }\n",
       "\n",
       "    .dataframe tbody tr th {\n",
       "        vertical-align: top;\n",
       "    }\n",
       "\n",
       "    .dataframe thead th {\n",
       "        text-align: right;\n",
       "    }\n",
       "</style>\n",
       "<table border=\"1\" class=\"dataframe\">\n",
       "  <thead>\n",
       "    <tr style=\"text-align: right;\">\n",
       "      <th></th>\n",
       "      <th>File_Name</th>\n",
       "      <th>Content</th>\n",
       "      <th>Category</th>\n",
       "      <th>Complete_Filename</th>\n",
       "    </tr>\n",
       "  </thead>\n",
       "  <tbody>\n",
       "    <tr>\n",
       "      <th>0</th>\n",
       "      <td>001.txt</td>\n",
       "      <td>Ad sales boost Time Warner profit Quarterly profits at US media giant TimeWarner jumped 76% to $1.13bn (Â£600m) for the three months to December, from $639m year-earlier. The firm, which is now one of the biggest investors in Google, benefited from sales of high-speed internet connections and higher advert sales. T...</td>\n",
       "      <td>business</td>\n",
       "      <td>001.txt-business</td>\n",
       "    </tr>\n",
       "    <tr>\n",
       "      <th>1</th>\n",
       "      <td>002.txt</td>\n",
       "      <td>Dollar gains on Greenspan speech The dollar has hit its highest level against the euro in almost three months after the Federal Reserve head said the US trade deficit is set to stabilise. And Alan Greenspan highlighted the US government's willingness to curb spending and rising household savings as factors which ma...</td>\n",
       "      <td>business</td>\n",
       "      <td>002.txt-business</td>\n",
       "    </tr>\n",
       "    <tr>\n",
       "      <th>2</th>\n",
       "      <td>003.txt</td>\n",
       "      <td>Yukos unit buyer faces loan claim The owners of embattled Russian oil giant Yukos are to ask the buyer of its former production unit to pay back a $900m (Â£479m) loan. State-owned Rosneft bought the Yugansk unit for $9.3bn in a sale forced by Russia to part settle a $27.5bn tax claim against Yukos. Yukos' owner Men...</td>\n",
       "      <td>business</td>\n",
       "      <td>003.txt-business</td>\n",
       "    </tr>\n",
       "  </tbody>\n",
       "</table>\n",
       "</div>"
      ],
      "text/plain": [
       "  File_Name  \\\n",
       "0   001.txt   \n",
       "1   002.txt   \n",
       "2   003.txt   \n",
       "\n",
       "                                                                                                                                                                                                                                                                                                                           Content  \\\n",
       "0  Ad sales boost Time Warner profit Quarterly profits at US media giant TimeWarner jumped 76% to $1.13bn (Â£600m) for the three months to December, from $639m year-earlier. The firm, which is now one of the biggest investors in Google, benefited from sales of high-speed internet connections and higher advert sales. T...   \n",
       "1  Dollar gains on Greenspan speech The dollar has hit its highest level against the euro in almost three months after the Federal Reserve head said the US trade deficit is set to stabilise. And Alan Greenspan highlighted the US government's willingness to curb spending and rising household savings as factors which ma...   \n",
       "2  Yukos unit buyer faces loan claim The owners of embattled Russian oil giant Yukos are to ask the buyer of its former production unit to pay back a $900m (Â£479m) loan. State-owned Rosneft bought the Yugansk unit for $9.3bn in a sale forced by Russia to part settle a $27.5bn tax claim against Yukos. Yukos' owner Men...   \n",
       "\n",
       "   Category Complete_Filename  \n",
       "0  business  001.txt-business  \n",
       "1  business  002.txt-business  \n",
       "2  business  003.txt-business  "
      ]
     },
     "execution_count": 5,
     "metadata": {},
     "output_type": "execute_result"
    }
   ],
   "source": [
    "dados.head(3)"
   ]
  },
  {
   "cell_type": "markdown",
   "metadata": {},
   "source": [
    "### Removendo pontuação"
   ]
  },
  {
   "cell_type": "markdown",
   "metadata": {},
   "source": [
    "Para remover pontuação resolvi usar a lista de pontuações do Spacy(costumizada)."
   ]
  },
  {
   "cell_type": "code",
   "execution_count": 6,
   "metadata": {},
   "outputs": [],
   "source": [
    "punctuation = '!\"#&\\'()*+,-./:;<=>?@[\\\\]^_`{|}~'\n",
    "\n",
    "def remover_pontuacao(texto):\n",
    "    return ''.join([caractere.lower() for caractere in texto if caractere not in punctuation])"
   ]
  },
  {
   "cell_type": "code",
   "execution_count": 7,
   "metadata": {},
   "outputs": [],
   "source": [
    "dados['Content'] = dados['Content'].apply(remover_pontuacao)"
   ]
  },
  {
   "cell_type": "code",
   "execution_count": 8,
   "metadata": {},
   "outputs": [
    {
     "data": {
      "text/html": [
       "<div>\n",
       "<style scoped>\n",
       "    .dataframe tbody tr th:only-of-type {\n",
       "        vertical-align: middle;\n",
       "    }\n",
       "\n",
       "    .dataframe tbody tr th {\n",
       "        vertical-align: top;\n",
       "    }\n",
       "\n",
       "    .dataframe thead th {\n",
       "        text-align: right;\n",
       "    }\n",
       "</style>\n",
       "<table border=\"1\" class=\"dataframe\">\n",
       "  <thead>\n",
       "    <tr style=\"text-align: right;\">\n",
       "      <th></th>\n",
       "      <th>File_Name</th>\n",
       "      <th>Content</th>\n",
       "      <th>Category</th>\n",
       "      <th>Complete_Filename</th>\n",
       "    </tr>\n",
       "  </thead>\n",
       "  <tbody>\n",
       "    <tr>\n",
       "      <th>0</th>\n",
       "      <td>001.txt</td>\n",
       "      <td>ad sales boost time warner profit quarterly profits at us media giant timewarner jumped 76% to $113bn â£600m for the three months to december from $639m yearearlier the firm which is now one of the biggest investors in google benefited from sales of highspeed internet connections and higher advert sales timewarner ...</td>\n",
       "      <td>business</td>\n",
       "      <td>001.txt-business</td>\n",
       "    </tr>\n",
       "    <tr>\n",
       "      <th>1</th>\n",
       "      <td>002.txt</td>\n",
       "      <td>dollar gains on greenspan speech the dollar has hit its highest level against the euro in almost three months after the federal reserve head said the us trade deficit is set to stabilise and alan greenspan highlighted the us governments willingness to curb spending and rising household savings as factors which may ...</td>\n",
       "      <td>business</td>\n",
       "      <td>002.txt-business</td>\n",
       "    </tr>\n",
       "  </tbody>\n",
       "</table>\n",
       "</div>"
      ],
      "text/plain": [
       "  File_Name  \\\n",
       "0   001.txt   \n",
       "1   002.txt   \n",
       "\n",
       "                                                                                                                                                                                                                                                                                                                           Content  \\\n",
       "0  ad sales boost time warner profit quarterly profits at us media giant timewarner jumped 76% to $113bn â£600m for the three months to december from $639m yearearlier the firm which is now one of the biggest investors in google benefited from sales of highspeed internet connections and higher advert sales timewarner ...   \n",
       "1  dollar gains on greenspan speech the dollar has hit its highest level against the euro in almost three months after the federal reserve head said the us trade deficit is set to stabilise and alan greenspan highlighted the us governments willingness to curb spending and rising household savings as factors which may ...   \n",
       "\n",
       "   Category Complete_Filename  \n",
       "0  business  001.txt-business  \n",
       "1  business  002.txt-business  "
      ]
     },
     "execution_count": 8,
     "metadata": {},
     "output_type": "execute_result"
    }
   ],
   "source": [
    "dados.head(2)"
   ]
  },
  {
   "cell_type": "markdown",
   "metadata": {},
   "source": [
    "### Tokenização com nltk regex"
   ]
  },
  {
   "cell_type": "markdown",
   "metadata": {},
   "source": [
    "Na tokenização foi optado por usar o nltk regex pela possibilidade de costumização. Podendo incluir expressões que englobe: $45bn, $45 ..."
   ]
  },
  {
   "cell_type": "code",
   "execution_count": 9,
   "metadata": {},
   "outputs": [],
   "source": [
    "pattern = r'\\w+| \\w+-\\w+| \\$?\\d+(?:\\.?\\d?\\w+)?%?| \\$\\d+\\.\\d+|[^\\w\\s]+'\n",
    "\n",
    "tokenizer_regex = RegexpTokenizer(pattern)\n",
    "dados['doc'] = dados['Content'].apply(tokenizer_regex.tokenize)"
   ]
  },
  {
   "cell_type": "code",
   "execution_count": 10,
   "metadata": {},
   "outputs": [
    {
     "data": {
      "text/html": [
       "<div>\n",
       "<style scoped>\n",
       "    .dataframe tbody tr th:only-of-type {\n",
       "        vertical-align: middle;\n",
       "    }\n",
       "\n",
       "    .dataframe tbody tr th {\n",
       "        vertical-align: top;\n",
       "    }\n",
       "\n",
       "    .dataframe thead th {\n",
       "        text-align: right;\n",
       "    }\n",
       "</style>\n",
       "<table border=\"1\" class=\"dataframe\">\n",
       "  <thead>\n",
       "    <tr style=\"text-align: right;\">\n",
       "      <th></th>\n",
       "      <th>File_Name</th>\n",
       "      <th>Content</th>\n",
       "      <th>Category</th>\n",
       "      <th>Complete_Filename</th>\n",
       "      <th>doc</th>\n",
       "    </tr>\n",
       "  </thead>\n",
       "  <tbody>\n",
       "    <tr>\n",
       "      <th>0</th>\n",
       "      <td>001.txt</td>\n",
       "      <td>ad sales boost time warner profit quarterly profits at us media giant timewarner jumped 76% to $113bn â£600m for the three months to december from $639m yearearlier the firm which is now one of the biggest investors in google benefited from sales of highspeed internet connections and higher advert sales timewarner ...</td>\n",
       "      <td>business</td>\n",
       "      <td>001.txt-business</td>\n",
       "      <td>[ad, sales, boost, time, warner, profit, quarterly, profits, at, us, media, giant, timewarner, jumped,  76%, to,  $113bn, â, £, 600m, for, the, three, months, to, december, from,  $639m, yearearlier, the, firm, which, is, now, one, of, the, biggest, investors, in, google, benefited, from, sales, of, highspeed, inte...</td>\n",
       "    </tr>\n",
       "  </tbody>\n",
       "</table>\n",
       "</div>"
      ],
      "text/plain": [
       "  File_Name  \\\n",
       "0   001.txt   \n",
       "\n",
       "                                                                                                                                                                                                                                                                                                                           Content  \\\n",
       "0  ad sales boost time warner profit quarterly profits at us media giant timewarner jumped 76% to $113bn â£600m for the three months to december from $639m yearearlier the firm which is now one of the biggest investors in google benefited from sales of highspeed internet connections and higher advert sales timewarner ...   \n",
       "\n",
       "   Category Complete_Filename  \\\n",
       "0  business  001.txt-business   \n",
       "\n",
       "                                                                                                                                                                                                                                                                                                                               doc  \n",
       "0  [ad, sales, boost, time, warner, profit, quarterly, profits, at, us, media, giant, timewarner, jumped,  76%, to,  $113bn, â, £, 600m, for, the, three, months, to, december, from,  $639m, yearearlier, the, firm, which, is, now, one, of, the, biggest, investors, in, google, benefited, from, sales, of, highspeed, inte...  "
      ]
     },
     "execution_count": 10,
     "metadata": {},
     "output_type": "execute_result"
    }
   ],
   "source": [
    "dados.head(1)"
   ]
  },
  {
   "cell_type": "code",
   "execution_count": 11,
   "metadata": {},
   "outputs": [],
   "source": [
    "doc = dados.loc[1,'doc']"
   ]
  },
  {
   "cell_type": "markdown",
   "metadata": {},
   "source": [
    "### Removendo Stops Words"
   ]
  },
  {
   "cell_type": "code",
   "execution_count": 12,
   "metadata": {},
   "outputs": [],
   "source": [
    "def remover_stopwords(tokens):\n",
    "    stopwords = nltk.corpus.stopwords.words('english')\n",
    "    return [token for token in tokens if token not in stopwords]"
   ]
  },
  {
   "cell_type": "code",
   "execution_count": 13,
   "metadata": {},
   "outputs": [
    {
     "data": {
      "text/html": [
       "<div>\n",
       "<style scoped>\n",
       "    .dataframe tbody tr th:only-of-type {\n",
       "        vertical-align: middle;\n",
       "    }\n",
       "\n",
       "    .dataframe tbody tr th {\n",
       "        vertical-align: top;\n",
       "    }\n",
       "\n",
       "    .dataframe thead th {\n",
       "        text-align: right;\n",
       "    }\n",
       "</style>\n",
       "<table border=\"1\" class=\"dataframe\">\n",
       "  <thead>\n",
       "    <tr style=\"text-align: right;\">\n",
       "      <th></th>\n",
       "      <th>tokens</th>\n",
       "      <th>Content</th>\n",
       "    </tr>\n",
       "  </thead>\n",
       "  <tbody>\n",
       "    <tr>\n",
       "      <th>0</th>\n",
       "      <td>[ad, sales, boost, time, warner, profit, quarterly, profits, us, media, giant, timewarner, jumped,  76%,  $113bn, â, £, 600m, three, months, december,  $639m, yearearlier, firm, one, biggest, investors, google, benefited, sales, highspeed, internet, connections, higher, advert, sales, timewarner, said, fourth, quar...</td>\n",
       "      <td>ad sales boost time warner profit quarterly profits at us media giant timewarner jumped 76% to $113bn â£600m for the three months to december from $639m yearearlier the firm which is now one of the biggest investors in google benefited from sales of highspeed internet connections and higher advert sales timewarner ...</td>\n",
       "    </tr>\n",
       "    <tr>\n",
       "      <th>1</th>\n",
       "      <td>[dollar, gains, greenspan, speech, dollar, hit, highest, level, euro, almost, three, months, federal, reserve, head, said, us, trade, deficit, set, stabilise, alan, greenspan, highlighted, us, governments, willingness, curb, spending, rising, household, savings, factors, may, help, reduce, late, trading, new, york,...</td>\n",
       "      <td>dollar gains on greenspan speech the dollar has hit its highest level against the euro in almost three months after the federal reserve head said the us trade deficit is set to stabilise and alan greenspan highlighted the us governments willingness to curb spending and rising household savings as factors which may ...</td>\n",
       "    </tr>\n",
       "    <tr>\n",
       "      <th>2</th>\n",
       "      <td>[yukos, unit, buyer, faces, loan, claim, owners, embattled, russian, oil, giant, yukos, ask, buyer, former, production, unit, pay, back,  $900m, â, £, 479m, loan, stateowned, rosneft, bought, yugansk, unit,  $93bn, sale, forced, russia, part, settle,  $275bn, tax, claim, yukos, yukos, owner, menatep, group, says, a...</td>\n",
       "      <td>yukos unit buyer faces loan claim the owners of embattled russian oil giant yukos are to ask the buyer of its former production unit to pay back a $900m â£479m loan stateowned rosneft bought the yugansk unit for $93bn in a sale forced by russia to part settle a $275bn tax claim against yukos yukos owner menatep gro...</td>\n",
       "    </tr>\n",
       "    <tr>\n",
       "      <th>3</th>\n",
       "      <td>[high, fuel, prices, hit, bas, profits, british, airways, blamed, high, fuel, prices,  40%, drop, profits, reporting, results, three, months,  31, december,  2004, airline, made, pretax, profit, â, £, 75m,  $141m, compared, â, £, 125m, year, earlier, rod, eddington, bas, chief, executive, said, results, respectable...</td>\n",
       "      <td>high fuel prices hit bas profits british airways has blamed high fuel prices for a 40% drop in profits reporting its results for the three months to 31 december 2004 the airline made a pretax profit of â£75m $141m compared with â£125m a year earlier rod eddington bas chief executive said the results were respectabl...</td>\n",
       "    </tr>\n",
       "  </tbody>\n",
       "</table>\n",
       "</div>"
      ],
      "text/plain": [
       "                                                                                                                                                                                                                                                                                                                            tokens  \\\n",
       "0  [ad, sales, boost, time, warner, profit, quarterly, profits, us, media, giant, timewarner, jumped,  76%,  $113bn, â, £, 600m, three, months, december,  $639m, yearearlier, firm, one, biggest, investors, google, benefited, sales, highspeed, internet, connections, higher, advert, sales, timewarner, said, fourth, quar...   \n",
       "1  [dollar, gains, greenspan, speech, dollar, hit, highest, level, euro, almost, three, months, federal, reserve, head, said, us, trade, deficit, set, stabilise, alan, greenspan, highlighted, us, governments, willingness, curb, spending, rising, household, savings, factors, may, help, reduce, late, trading, new, york,...   \n",
       "2  [yukos, unit, buyer, faces, loan, claim, owners, embattled, russian, oil, giant, yukos, ask, buyer, former, production, unit, pay, back,  $900m, â, £, 479m, loan, stateowned, rosneft, bought, yugansk, unit,  $93bn, sale, forced, russia, part, settle,  $275bn, tax, claim, yukos, yukos, owner, menatep, group, says, a...   \n",
       "3  [high, fuel, prices, hit, bas, profits, british, airways, blamed, high, fuel, prices,  40%, drop, profits, reporting, results, three, months,  31, december,  2004, airline, made, pretax, profit, â, £, 75m,  $141m, compared, â, £, 125m, year, earlier, rod, eddington, bas, chief, executive, said, results, respectable...   \n",
       "\n",
       "                                                                                                                                                                                                                                                                                                                           Content  \n",
       "0  ad sales boost time warner profit quarterly profits at us media giant timewarner jumped 76% to $113bn â£600m for the three months to december from $639m yearearlier the firm which is now one of the biggest investors in google benefited from sales of highspeed internet connections and higher advert sales timewarner ...  \n",
       "1  dollar gains on greenspan speech the dollar has hit its highest level against the euro in almost three months after the federal reserve head said the us trade deficit is set to stabilise and alan greenspan highlighted the us governments willingness to curb spending and rising household savings as factors which may ...  \n",
       "2  yukos unit buyer faces loan claim the owners of embattled russian oil giant yukos are to ask the buyer of its former production unit to pay back a $900m â£479m loan stateowned rosneft bought the yugansk unit for $93bn in a sale forced by russia to part settle a $275bn tax claim against yukos yukos owner menatep gro...  \n",
       "3  high fuel prices hit bas profits british airways has blamed high fuel prices for a 40% drop in profits reporting its results for the three months to 31 december 2004 the airline made a pretax profit of â£75m $141m compared with â£125m a year earlier rod eddington bas chief executive said the results were respectabl...  "
      ]
     },
     "execution_count": 13,
     "metadata": {},
     "output_type": "execute_result"
    }
   ],
   "source": [
    "dados['tokens'] = dados['doc'].apply(remover_stopwords)\n",
    "dados.loc[:3,['tokens','Content']]"
   ]
  },
  {
   "cell_type": "markdown",
   "metadata": {},
   "source": [
    "### Lematização"
   ]
  },
  {
   "cell_type": "code",
   "execution_count": 14,
   "metadata": {},
   "outputs": [],
   "source": [
    "# Lemmatization\n",
    "lem = nltk.stem.wordnet.WordNetLemmatizer()\n",
    "dados['tokens'] = dados['tokens'].apply(lambda x: [lem.lemmatize(item) for item in x])"
   ]
  },
  {
   "cell_type": "code",
   "execution_count": 15,
   "metadata": {},
   "outputs": [
    {
     "data": {
      "text/html": [
       "<div>\n",
       "<style scoped>\n",
       "    .dataframe tbody tr th:only-of-type {\n",
       "        vertical-align: middle;\n",
       "    }\n",
       "\n",
       "    .dataframe tbody tr th {\n",
       "        vertical-align: top;\n",
       "    }\n",
       "\n",
       "    .dataframe thead th {\n",
       "        text-align: right;\n",
       "    }\n",
       "</style>\n",
       "<table border=\"1\" class=\"dataframe\">\n",
       "  <thead>\n",
       "    <tr style=\"text-align: right;\">\n",
       "      <th></th>\n",
       "      <th>File_Name</th>\n",
       "      <th>Content</th>\n",
       "      <th>Category</th>\n",
       "      <th>Complete_Filename</th>\n",
       "      <th>doc</th>\n",
       "      <th>tokens</th>\n",
       "    </tr>\n",
       "  </thead>\n",
       "  <tbody>\n",
       "    <tr>\n",
       "      <th>0</th>\n",
       "      <td>001.txt</td>\n",
       "      <td>ad sales boost time warner profit quarterly profits at us media giant timewarner jumped 76% to $113bn â£600m for the three months to december from $639m yearearlier the firm which is now one of the biggest investors in google benefited from sales of highspeed internet connections and higher advert sales timewarner ...</td>\n",
       "      <td>business</td>\n",
       "      <td>001.txt-business</td>\n",
       "      <td>[ad, sales, boost, time, warner, profit, quarterly, profits, at, us, media, giant, timewarner, jumped,  76%, to,  $113bn, â, £, 600m, for, the, three, months, to, december, from,  $639m, yearearlier, the, firm, which, is, now, one, of, the, biggest, investors, in, google, benefited, from, sales, of, highspeed, inte...</td>\n",
       "      <td>[ad, sale, boost, time, warner, profit, quarterly, profit, u, medium, giant, timewarner, jumped,  76%,  $113bn, â, £, 600m, three, month, december,  $639m, yearearlier, firm, one, biggest, investor, google, benefited, sale, highspeed, internet, connection, higher, advert, sale, timewarner, said, fourth, quarter, sa...</td>\n",
       "    </tr>\n",
       "  </tbody>\n",
       "</table>\n",
       "</div>"
      ],
      "text/plain": [
       "  File_Name  \\\n",
       "0   001.txt   \n",
       "\n",
       "                                                                                                                                                                                                                                                                                                                           Content  \\\n",
       "0  ad sales boost time warner profit quarterly profits at us media giant timewarner jumped 76% to $113bn â£600m for the three months to december from $639m yearearlier the firm which is now one of the biggest investors in google benefited from sales of highspeed internet connections and higher advert sales timewarner ...   \n",
       "\n",
       "   Category Complete_Filename  \\\n",
       "0  business  001.txt-business   \n",
       "\n",
       "                                                                                                                                                                                                                                                                                                                               doc  \\\n",
       "0  [ad, sales, boost, time, warner, profit, quarterly, profits, at, us, media, giant, timewarner, jumped,  76%, to,  $113bn, â, £, 600m, for, the, three, months, to, december, from,  $639m, yearearlier, the, firm, which, is, now, one, of, the, biggest, investors, in, google, benefited, from, sales, of, highspeed, inte...   \n",
       "\n",
       "                                                                                                                                                                                                                                                                                                                            tokens  \n",
       "0  [ad, sale, boost, time, warner, profit, quarterly, profit, u, medium, giant, timewarner, jumped,  76%,  $113bn, â, £, 600m, three, month, december,  $639m, yearearlier, firm, one, biggest, investor, google, benefited, sale, highspeed, internet, connection, higher, advert, sale, timewarner, said, fourth, quarter, sa...  "
      ]
     },
     "execution_count": 15,
     "metadata": {},
     "output_type": "execute_result"
    }
   ],
   "source": [
    "dados.head(1)"
   ]
  },
  {
   "cell_type": "markdown",
   "metadata": {},
   "source": [
    "### Montando texto tokenizado"
   ]
  },
  {
   "cell_type": "code",
   "execution_count": 16,
   "metadata": {},
   "outputs": [],
   "source": [
    "def montar_texto(tokens):\n",
    "    return ' '.join(tokens)"
   ]
  },
  {
   "cell_type": "code",
   "execution_count": 17,
   "metadata": {},
   "outputs": [
    {
     "data": {
      "text/html": [
       "<div>\n",
       "<style scoped>\n",
       "    .dataframe tbody tr th:only-of-type {\n",
       "        vertical-align: middle;\n",
       "    }\n",
       "\n",
       "    .dataframe tbody tr th {\n",
       "        vertical-align: top;\n",
       "    }\n",
       "\n",
       "    .dataframe thead th {\n",
       "        text-align: right;\n",
       "    }\n",
       "</style>\n",
       "<table border=\"1\" class=\"dataframe\">\n",
       "  <thead>\n",
       "    <tr style=\"text-align: right;\">\n",
       "      <th></th>\n",
       "      <th>File_Name</th>\n",
       "      <th>Content</th>\n",
       "      <th>Category</th>\n",
       "      <th>Complete_Filename</th>\n",
       "      <th>doc</th>\n",
       "      <th>tokens</th>\n",
       "    </tr>\n",
       "  </thead>\n",
       "  <tbody>\n",
       "    <tr>\n",
       "      <th>262</th>\n",
       "      <td>263.txt</td>\n",
       "      <td>splitcaps pay â £ 194m compensation investor lost money following splitcapital investment trust scandal receive â £ 194m compensation uk financial watchdog announced eighteen investment firm involved sale investment agreed compensation package financial service authority fsa split marketed lowrisk way benefit risin...</td>\n",
       "      <td>business</td>\n",
       "      <td>263.txt-business</td>\n",
       "      <td>[splitcaps, pay, â, £, 194m, compensation, investors, who, lost, money, following, the, splitcapital, investment, trust, scandal, are, to, receive, â, £, 194m, compensation, the, uks, financial, watchdog, has, announced, eighteen, investment, firms, involved, in, the, sale, of, the, investments, agreed, the, compen...</td>\n",
       "      <td>[splitcaps, pay, â, £, 194m, compensation, investor, lost, money, following, splitcapital, investment, trust, scandal, receive, â, £, 194m, compensation, uk, financial, watchdog, announced, eighteen, investment, firm, involved, sale, investment, agreed, compensation, package, financial, service, authority, fsa, spl...</td>\n",
       "    </tr>\n",
       "    <tr>\n",
       "      <th>219</th>\n",
       "      <td>220.txt</td>\n",
       "      <td>standard life concern lse bid standard life latest shareholder deutsche boerse express concern german stock market operator plan buy london stock exchange said deutsche boerse show planned â £ 135bn  $25bn offer lse good shareholder value report say standard life owns  1% stake deutsche boerse may seek shareholder ...</td>\n",
       "      <td>business</td>\n",
       "      <td>220.txt-business</td>\n",
       "      <td>[standard, life, concern, at, lse, bid, standard, life, is, the, latest, shareholder, in, deutsche, boerse, to, express, concern, at, the, german, stock, market, operators, plans, to, buy, the, london, stock, exchange, it, said, deutsche, boerse, had, to, show, why, its, planned, â, £, 135bn,  $25bn, offer, for, th...</td>\n",
       "      <td>[standard, life, concern, lse, bid, standard, life, latest, shareholder, deutsche, boerse, express, concern, german, stock, market, operator, plan, buy, london, stock, exchange, said, deutsche, boerse, show, planned, â, £, 135bn,  $25bn, offer, lse, good, shareholder, value, report, say, standard, life, owns,  1%, ...</td>\n",
       "    </tr>\n",
       "  </tbody>\n",
       "</table>\n",
       "</div>"
      ],
      "text/plain": [
       "    File_Name  \\\n",
       "262   263.txt   \n",
       "219   220.txt   \n",
       "\n",
       "                                                                                                                                                                                                                                                                                                                             Content  \\\n",
       "262  splitcaps pay â £ 194m compensation investor lost money following splitcapital investment trust scandal receive â £ 194m compensation uk financial watchdog announced eighteen investment firm involved sale investment agreed compensation package financial service authority fsa split marketed lowrisk way benefit risin...   \n",
       "219  standard life concern lse bid standard life latest shareholder deutsche boerse express concern german stock market operator plan buy london stock exchange said deutsche boerse show planned â £ 135bn  $25bn offer lse good shareholder value report say standard life owns  1% stake deutsche boerse may seek shareholder ...   \n",
       "\n",
       "     Category Complete_Filename  \\\n",
       "262  business  263.txt-business   \n",
       "219  business  220.txt-business   \n",
       "\n",
       "                                                                                                                                                                                                                                                                                                                                 doc  \\\n",
       "262  [splitcaps, pay, â, £, 194m, compensation, investors, who, lost, money, following, the, splitcapital, investment, trust, scandal, are, to, receive, â, £, 194m, compensation, the, uks, financial, watchdog, has, announced, eighteen, investment, firms, involved, in, the, sale, of, the, investments, agreed, the, compen...   \n",
       "219  [standard, life, concern, at, lse, bid, standard, life, is, the, latest, shareholder, in, deutsche, boerse, to, express, concern, at, the, german, stock, market, operators, plans, to, buy, the, london, stock, exchange, it, said, deutsche, boerse, had, to, show, why, its, planned, â, £, 135bn,  $25bn, offer, for, th...   \n",
       "\n",
       "                                                                                                                                                                                                                                                                                                                              tokens  \n",
       "262  [splitcaps, pay, â, £, 194m, compensation, investor, lost, money, following, splitcapital, investment, trust, scandal, receive, â, £, 194m, compensation, uk, financial, watchdog, announced, eighteen, investment, firm, involved, sale, investment, agreed, compensation, package, financial, service, authority, fsa, spl...  \n",
       "219  [standard, life, concern, lse, bid, standard, life, latest, shareholder, deutsche, boerse, express, concern, german, stock, market, operator, plan, buy, london, stock, exchange, said, deutsche, boerse, show, planned, â, £, 135bn,  $25bn, offer, lse, good, shareholder, value, report, say, standard, life, owns,  1%, ...  "
      ]
     },
     "execution_count": 17,
     "metadata": {},
     "output_type": "execute_result"
    }
   ],
   "source": [
    "dados['Content'] = dados['tokens'].apply(montar_texto)\n",
    "dados.sample(2)"
   ]
  },
  {
   "cell_type": "markdown",
   "metadata": {},
   "source": [
    "## Extração de Características"
   ]
  },
  {
   "cell_type": "code",
   "execution_count": 18,
   "metadata": {},
   "outputs": [],
   "source": [
    "from sklearn.model_selection import train_test_split\n",
    "from sklearn.feature_extraction.text import TfidfVectorizer"
   ]
  },
  {
   "cell_type": "markdown",
   "metadata": {},
   "source": [
    "### Vetorizando - Treino e Teste"
   ]
  },
  {
   "cell_type": "code",
   "execution_count": 19,
   "metadata": {},
   "outputs": [],
   "source": [
    "from sklearn.model_selection import KFold\n",
    "\n",
    "kf = KFold(n_splits=3, shuffle=True, random_state = 0)\n",
    "\n",
    "X = dados['Content']\n",
    "y = dados['Category']\n",
    "\n",
    "for tr, ts in kf.split(X):\n",
    "    Xtr, Ytr = X.iloc[tr], y.iloc[tr]\n",
    "    Xte, Yte = X.iloc[ts], y.iloc[ts]"
   ]
  },
  {
   "cell_type": "code",
   "execution_count": 20,
   "metadata": {},
   "outputs": [],
   "source": [
    "vectorizer = TfidfVectorizer(min_df=2, ngram_range=(1,2))\n",
    "vectorizer.fit(dados['Content'].to_list())\n",
    "\n",
    "#treino, teste = train_test_split(dados[['Content','Category']], test_size=0.20, random_state=0)\n",
    "\n",
    "Xtr = vectorizer.transform(Xtr.to_list())\n",
    "Ytr = Ytr.to_list()\n",
    "\n",
    "Xte = vectorizer.transform(Xte.to_list())\n",
    "Yte = Yte.to_list()"
   ]
  },
  {
   "cell_type": "markdown",
   "metadata": {},
   "source": [
    "## Classificação com Modelos"
   ]
  },
  {
   "cell_type": "code",
   "execution_count": 63,
   "metadata": {},
   "outputs": [],
   "source": [
    "from sklearn.svm import LinearSVC\n",
    "from sklearn.naive_bayes import MultinomialNB\n",
    "from sklearn import svm\n",
    "from lightgbm import LGBMClassifier\n",
    "\n",
    "from sklearn.metrics import accuracy_score, f1_score, precision_score, recall_score\n",
    "from sklearn.metrics import confusion_matrix, ConfusionMatrixDisplay\n",
    "\n",
    "import warnings\n",
    "warnings.filterwarnings(\"ignore\")"
   ]
  },
  {
   "cell_type": "code",
   "execution_count": 60,
   "metadata": {},
   "outputs": [],
   "source": [
    "# Função para registrar as métricas\n",
    "def registrar_metricas(metricas, Yte, Ypred, nome_estimador):\n",
    "    metricas[nome_estimador] = {\n",
    "        'acuracia': round(accuracy_score(Yte, Ypred),4),\n",
    "        'precisao': round(precision_score(Yte, Ypred, pos_label=1, average='macro'),4),\n",
    "        'revocacao': round(recall_score(Yte, Ypred, pos_label=1, average='macro'), 4),\n",
    "        'f1': round(f1_score(Yte, Ypred, pos_label=1, average='macro'),4)\n",
    "    }\n",
    "\n",
    "metricas = dict()"
   ]
  },
  {
   "cell_type": "markdown",
   "metadata": {},
   "source": [
    "### Classificação com LinearSVC"
   ]
  },
  {
   "cell_type": "code",
   "execution_count": 64,
   "metadata": {},
   "outputs": [],
   "source": [
    "svc_model = LinearSVC(C=0.3)\n",
    "svc_model.fit(Xtr, Ytr)\n",
    "Ypred_svc = svc_model.predict(Xte)\n",
    "labels_svc = svc_model.classes_\n",
    "registrar_metricas(metricas, Yte, Ypred_svc, 'LinearSVC')\n",
    "matriz_confusao_svc = confusion_matrix(Yte, Ypred_svc, labels=labels_svc)"
   ]
  },
  {
   "cell_type": "markdown",
   "metadata": {},
   "source": [
    "### Classificação com MultinomialNB"
   ]
  },
  {
   "cell_type": "code",
   "execution_count": 25,
   "metadata": {},
   "outputs": [],
   "source": [
    "nb = MultinomialNB()\n",
    "nb.fit(Xtr, Ytr)\n",
    "Ypred_nb = nb.predict(Xte)\n",
    "labels_nb = nb.classes_\n",
    "registrar_metricas(metricas, Yte, Ypred_nb, 'MultinomialNB')\n",
    "matriz_confusao_nb = confusion_matrix(Yte, Ypred_nb, labels=labels_nb)"
   ]
  },
  {
   "cell_type": "markdown",
   "metadata": {},
   "source": [
    "### Classificação com LBGMClassifier"
   ]
  },
  {
   "cell_type": "code",
   "execution_count": 26,
   "metadata": {},
   "outputs": [],
   "source": [
    "lgbm = LGBMClassifier()\n",
    "lgbm.fit(Xtr, Ytr)\n",
    "Ypred_lgbm = lgbm.predict(Xte)\n",
    "labels_lgbm = lgbm.classes_\n",
    "registrar_metricas(metricas, Yte, Ypred_lgbm, 'LGBM')\n",
    "matriz_confusao_lgbm = confusion_matrix(Yte, Ypred_lgbm, labels=labels_lgbm)"
   ]
  },
  {
   "cell_type": "markdown",
   "metadata": {},
   "source": [
    "### Classificação com o SVM"
   ]
  },
  {
   "cell_type": "code",
   "execution_count": 27,
   "metadata": {},
   "outputs": [],
   "source": [
    "svm_model = svm.SVC(kernel='linear', C=1.0)\n",
    "svm_model.fit(Xtr, Ytr)\n",
    "Ypred_svm = svm_model.predict(Xte)\n",
    "labels_svm = svm_model.classes_\n",
    "registrar_metricas(metricas, Yte, Ypred_svm, 'SVM')\n",
    "matriz_confusao_svm = confusion_matrix(Yte, Ypred_svm, labels=labels_svm)"
   ]
  },
  {
   "cell_type": "markdown",
   "metadata": {},
   "source": [
    "### Resultados preliminares"
   ]
  },
  {
   "cell_type": "code",
   "execution_count": 28,
   "metadata": {},
   "outputs": [
    {
     "data": {
      "text/html": [
       "<div>\n",
       "<style scoped>\n",
       "    .dataframe tbody tr th:only-of-type {\n",
       "        vertical-align: middle;\n",
       "    }\n",
       "\n",
       "    .dataframe tbody tr th {\n",
       "        vertical-align: top;\n",
       "    }\n",
       "\n",
       "    .dataframe thead th {\n",
       "        text-align: right;\n",
       "    }\n",
       "</style>\n",
       "<table border=\"1\" class=\"dataframe\">\n",
       "  <thead>\n",
       "    <tr style=\"text-align: right;\">\n",
       "      <th></th>\n",
       "      <th>acuracia</th>\n",
       "      <th>precisao</th>\n",
       "      <th>revocacao</th>\n",
       "      <th>f1</th>\n",
       "    </tr>\n",
       "  </thead>\n",
       "  <tbody>\n",
       "    <tr>\n",
       "      <th>LinearSVC</th>\n",
       "      <td>0.9784</td>\n",
       "      <td>0.9786</td>\n",
       "      <td>0.9770</td>\n",
       "      <td>0.9776</td>\n",
       "    </tr>\n",
       "    <tr>\n",
       "      <th>MultinomialNB</th>\n",
       "      <td>0.9568</td>\n",
       "      <td>0.9601</td>\n",
       "      <td>0.9526</td>\n",
       "      <td>0.9550</td>\n",
       "    </tr>\n",
       "    <tr>\n",
       "      <th>LGBM</th>\n",
       "      <td>0.9771</td>\n",
       "      <td>0.9781</td>\n",
       "      <td>0.9763</td>\n",
       "      <td>0.9771</td>\n",
       "    </tr>\n",
       "    <tr>\n",
       "      <th>SVM</th>\n",
       "      <td>0.9811</td>\n",
       "      <td>0.9810</td>\n",
       "      <td>0.9801</td>\n",
       "      <td>0.9804</td>\n",
       "    </tr>\n",
       "  </tbody>\n",
       "</table>\n",
       "</div>"
      ],
      "text/plain": [
       "               acuracia  precisao  revocacao      f1\n",
       "LinearSVC        0.9784    0.9786     0.9770  0.9776\n",
       "MultinomialNB    0.9568    0.9601     0.9526  0.9550\n",
       "LGBM             0.9771    0.9781     0.9763  0.9771\n",
       "SVM              0.9811    0.9810     0.9801  0.9804"
      ]
     },
     "execution_count": 28,
     "metadata": {},
     "output_type": "execute_result"
    }
   ],
   "source": [
    "resultados = pd.DataFrame(metricas).T\n",
    "resultados"
   ]
  },
  {
   "cell_type": "code",
   "execution_count": 29,
   "metadata": {},
   "outputs": [],
   "source": [
    "from matplotlib import pyplot as plt\n",
    "\n",
    "def plotar_matriz_confusao(matriz, titulo, labels):\n",
    "    plt.rcParams.update({'font.size': 14})\n",
    "    fig, ax = plt.subplots(figsize=(18,10))\n",
    "    ax.set_title(titulo)\n",
    "    disp = ConfusionMatrixDisplay(confusion_matrix=matriz, display_labels=labels)\n",
    "    disp.plot(cmap='Blues', ax=ax)"
   ]
  },
  {
   "cell_type": "markdown",
   "metadata": {},
   "source": [
    "Matriz de Confusão - SVM"
   ]
  },
  {
   "cell_type": "code",
   "execution_count": 30,
   "metadata": {},
   "outputs": [
    {
     "data": {
      "image/png": "[encoded data removed]",
      "text/plain": [
       "<Figure size 1296x720 with 2 Axes>"
      ]
     },
     "metadata": {
      "needs_background": "light"
     },
     "output_type": "display_data"
    }
   ],
   "source": [
    "plotar_matriz_confusao(matriz_confusao_svm, 'Matriz de Confusão para SVM', labels_svm)"
   ]
  },
  {
   "cell_type": "markdown",
   "metadata": {},
   "source": [
    "O modelo escolhido foi o SVM e iremos agora tentar \"tunar\" os seus paramentros para uma possível melhora de acurácia."
   ]
  },
  {
   "cell_type": "markdown",
   "metadata": {},
   "source": [
    "## Tuning Parameter"
   ]
  },
  {
   "cell_type": "code",
   "execution_count": 45,
   "metadata": {},
   "outputs": [],
   "source": [
    "from skopt import dummy_minimize\n",
    "from sklearn import svm\n",
    "\n",
    "from skopt.space import Integer\n",
    "from skopt.space import Real\n",
    "from skopt.space import Categorical"
   ]
  },
  {
   "cell_type": "markdown",
   "metadata": {},
   "source": [
    "Para identificar os melhores parâmetros do modelo iremos utilizar a técnica de Bayesian Optimization."
   ]
  },
  {
   "cell_type": "markdown",
   "metadata": {},
   "source": [
    "### Bayesian Optimization"
   ]
  },
  {
   "cell_type": "code",
   "execution_count": 46,
   "metadata": {},
   "outputs": [],
   "source": [
    "from skopt import gp_minimize"
   ]
  },
  {
   "cell_type": "markdown",
   "metadata": {},
   "source": [
    "#### SVM"
   ]
  },
  {
   "cell_type": "code",
   "execution_count": 47,
   "metadata": {},
   "outputs": [],
   "source": [
    "def treinar_model_SVM(params):\n",
    "    C = params[0]\n",
    "    kernel = params[1]\n",
    "    gamma = params[2]\n",
    "\n",
    "    print(params, '\\n')\n",
    "\n",
    "    svm_model = svm.SVC(C = C, kernel=kernel, gamma=gamma, random_state=27)\n",
    "    svm_model.fit(Xtr, Ytr)\n",
    "\n",
    "    p = svm_model.predict(Xte)\n",
    "\n",
    "    return -round(accuracy_score(Yte, p),4)\n",
    "\n",
    "space = [Real(0.1,100.0, 'log-uniform'),\n",
    "        Categorical(['linear','rbf', 'poly', 'sigmoid']),\n",
    "        Real(0.001,10, 'log-uniform')]"
   ]
  },
  {
   "cell_type": "code",
   "execution_count": 48,
   "metadata": {},
   "outputs": [
    {
     "name": "stdout",
     "output_type": "stream",
     "text": [
      "Iteration No: 1 started. Evaluating function at random point.\n",
      "[98.0741228990047, 'sigmoid', 0.0032546012860767215] \n",
      "\n",
      "Iteration No: 1 ended. Evaluation done at random point.\n",
      "Time taken: 5.7995\n",
      "Function value obtained: -0.9757\n",
      "Current minimum: -0.9757\n",
      "Iteration No: 2 started. Evaluating function at random point.\n",
      "[99.33940306516521, 'poly', 0.03857650773770048] \n",
      "\n",
      "Iteration No: 2 ended. Evaluation done at random point.\n",
      "Time taken: 7.8798\n",
      "Function value obtained: -0.2146\n",
      "Current minimum: -0.9757\n",
      "Iteration No: 3 started. Evaluating function at random point.\n",
      "[1.4579150644317593, 'rbf', 5.522761430909137] \n",
      "\n",
      "Iteration No: 3 ended. Evaluation done at random point.\n",
      "Time taken: 7.5945\n",
      "Function value obtained: -0.3252\n",
      "Current minimum: -0.9757\n",
      "Iteration No: 4 started. Evaluating function at random point.\n",
      "[34.58858137056757, 'poly', 0.12536971491294213] \n",
      "\n",
      "Iteration No: 4 ended. Evaluation done at random point.\n",
      "Time taken: 8.0924\n",
      "Function value obtained: -0.2146\n",
      "Current minimum: -0.9757\n",
      "Iteration No: 5 started. Evaluating function at random point.\n",
      "[2.1397285495674176, 'poly', 0.1372952890633203] \n",
      "\n",
      "Iteration No: 5 ended. Evaluation done at random point.\n",
      "Time taken: 8.1758\n",
      "Function value obtained: -0.2146\n",
      "Current minimum: -0.9757\n",
      "Iteration No: 6 started. Evaluating function at random point.\n",
      "[55.19326346081447, 'poly', 0.052819497928459226] \n",
      "\n",
      "Iteration No: 6 ended. Evaluation done at random point.\n",
      "Time taken: 7.9148\n",
      "Function value obtained: -0.2146\n",
      "Current minimum: -0.9757\n",
      "Iteration No: 7 started. Evaluating function at random point.\n",
      "[65.67247264241928, 'rbf', 0.7309405637964052] \n",
      "\n",
      "Iteration No: 7 ended. Evaluation done at random point.\n",
      "Time taken: 7.3713\n",
      "Function value obtained: -0.9798\n",
      "Current minimum: -0.9798\n",
      "Iteration No: 8 started. Evaluating function at random point.\n",
      "[25.601918563697865, 'linear', 0.11819801843969016] \n",
      "\n",
      "Iteration No: 8 ended. Evaluation done at random point.\n",
      "Time taken: 6.0209\n",
      "Function value obtained: -0.9811\n",
      "Current minimum: -0.9811\n",
      "Iteration No: 9 started. Evaluating function at random point.\n",
      "[39.36051352760933, 'rbf', 2.0816774494442987] \n",
      "\n",
      "Iteration No: 9 ended. Evaluation done at random point.\n",
      "Time taken: 7.6576\n",
      "Function value obtained: -0.9352\n",
      "Current minimum: -0.9811\n",
      "Iteration No: 10 started. Evaluating function at random point.\n",
      "[0.6594014877215836, 'linear', 0.48096354537337727] \n",
      "\n",
      "Iteration No: 10 ended. Evaluation done at random point.\n",
      "Time taken: 5.8717\n",
      "Function value obtained: -0.9798\n",
      "Current minimum: -0.9811\n",
      "Iteration No: 11 started. Searching for the next optimal point.\n",
      "[100.0, 'rbf', 0.3522831612459318] \n",
      "\n",
      "Iteration No: 11 ended. Search finished for the next optimal point.\n",
      "Time taken: 6.8363\n",
      "Function value obtained: -0.9811\n",
      "Current minimum: -0.9811\n",
      "Iteration No: 12 started. Searching for the next optimal point.\n",
      "[3.215833266949762, 'sigmoid', 0.14854205729722594] \n",
      "\n",
      "Iteration No: 12 ended. Search finished for the next optimal point.\n",
      "Time taken: 5.5468\n",
      "Function value obtained: -0.9784\n",
      "Current minimum: -0.9811\n",
      "Iteration No: 13 started. Searching for the next optimal point.\n",
      "[4.46458917752593, 'linear', 0.2304130362841665] \n",
      "\n",
      "Iteration No: 13 ended. Search finished for the next optimal point.\n",
      "Time taken: 6.3031\n",
      "Function value obtained: -0.9811\n",
      "Current minimum: -0.9811\n",
      "Iteration No: 14 started. Searching for the next optimal point.\n",
      "[0.1, 'sigmoid', 0.001] \n",
      "\n",
      "Iteration No: 14 ended. Search finished for the next optimal point.\n",
      "Time taken: 7.3846\n",
      "Function value obtained: -0.2146\n",
      "Current minimum: -0.9811\n",
      "Iteration No: 15 started. Searching for the next optimal point.\n",
      "[16.553316603880912, 'sigmoid', 10.0] \n",
      "\n",
      "Iteration No: 15 ended. Search finished for the next optimal point.\n",
      "Time taken: 1.0386\n",
      "Function value obtained: -0.9204\n",
      "Current minimum: -0.9811\n",
      "Iteration No: 16 started. Searching for the next optimal point.\n",
      "[0.1, 'linear', 0.001] \n",
      "\n",
      "Iteration No: 16 ended. Search finished for the next optimal point.\n",
      "Time taken: 7.1947\n",
      "Function value obtained: -0.7787\n",
      "Current minimum: -0.9811\n",
      "Iteration No: 17 started. Searching for the next optimal point.\n",
      "[5.609499281425195, 'sigmoid', 0.018547388647871803] \n",
      "\n",
      "Iteration No: 17 ended. Search finished for the next optimal point.\n",
      "Time taken: 7.3105\n",
      "Function value obtained: -0.7989\n",
      "Current minimum: -0.9811\n",
      "Iteration No: 18 started. Searching for the next optimal point.\n",
      "[100.0, 'sigmoid', 0.164246230475503] \n",
      "\n",
      "Iteration No: 18 ended. Search finished for the next optimal point.\n",
      "Time taken: 6.5434\n",
      "Function value obtained: -0.9811\n",
      "Current minimum: -0.9811\n",
      "Iteration No: 19 started. Searching for the next optimal point.\n",
      "[100.0, 'linear', 10.0] \n",
      "\n",
      "Iteration No: 19 ended. Search finished for the next optimal point.\n",
      "Time taken: 6.2309\n",
      "Function value obtained: -0.9811\n",
      "Current minimum: -0.9811\n",
      "Iteration No: 20 started. Searching for the next optimal point.\n",
      "[3.4133814448420825, 'sigmoid', 0.30226662396140336] \n",
      "\n",
      "Iteration No: 20 ended. Search finished for the next optimal point.\n",
      "Time taken: 6.4696\n",
      "Function value obtained: -0.9811\n",
      "Current minimum: -0.9811\n",
      "Iteration No: 21 started. Searching for the next optimal point.\n",
      "[1.954310593351933, 'linear', 10.0] \n",
      "\n",
      "Iteration No: 21 ended. Search finished for the next optimal point.\n",
      "Time taken: 6.1971\n",
      "Function value obtained: -0.9811\n",
      "Current minimum: -0.9811\n",
      "Iteration No: 22 started. Searching for the next optimal point.\n",
      "[100.0, 'rbf', 1.0646923944972204] \n",
      "\n",
      "Iteration No: 22 ended. Search finished for the next optimal point.\n",
      "Time taken: 7.5538\n",
      "Function value obtained: -0.9757\n",
      "Current minimum: -0.9811\n",
      "Iteration No: 23 started. Searching for the next optimal point.\n",
      "[100.0, 'sigmoid', 0.0038852002601975403] \n",
      "\n",
      "Iteration No: 23 ended. Search finished for the next optimal point.\n",
      "Time taken: 5.6256\n",
      "Function value obtained: -0.9784\n",
      "Current minimum: -0.9811\n",
      "Iteration No: 24 started. Searching for the next optimal point.\n",
      "[3.1543627291288514, 'sigmoid', 1.6654697554095277] \n",
      "\n",
      "Iteration No: 24 ended. Search finished for the next optimal point.\n",
      "Time taken: 3.8308\n",
      "Function value obtained: -0.9825\n",
      "Current minimum: -0.9825\n",
      "Iteration No: 25 started. Searching for the next optimal point.\n",
      "[100.0, 'linear', 0.001] \n",
      "\n",
      "Iteration No: 25 ended. Search finished for the next optimal point.\n",
      "Time taken: 6.2342\n",
      "Function value obtained: -0.9811\n",
      "Current minimum: -0.9825\n",
      "Iteration No: 26 started. Searching for the next optimal point.\n",
      "[59.12070440160548, 'linear', 0.10748568527574497] \n",
      "\n",
      "Iteration No: 26 ended. Search finished for the next optimal point.\n",
      "Time taken: 6.2749\n",
      "Function value obtained: -0.9811\n",
      "Current minimum: -0.9825\n",
      "Iteration No: 27 started. Searching for the next optimal point.\n",
      "[28.83208494980314, 'sigmoid', 10.0] \n",
      "\n",
      "Iteration No: 27 ended. Search finished for the next optimal point.\n",
      "Time taken: 1.0658\n",
      "Function value obtained: -0.9150\n",
      "Current minimum: -0.9825\n",
      "Iteration No: 28 started. Searching for the next optimal point.\n",
      "[2.6271756958847754, 'sigmoid', 0.3064679281441926] \n",
      "\n",
      "Iteration No: 28 ended. Search finished for the next optimal point.\n",
      "Time taken: 6.6163\n",
      "Function value obtained: -0.9811\n",
      "Current minimum: -0.9825\n",
      "Iteration No: 29 started. Searching for the next optimal point.\n",
      "[100.0, 'sigmoid', 0.026481709823331773] \n",
      "\n",
      "Iteration No: 29 ended. Search finished for the next optimal point.\n",
      "Time taken: 6.5568\n",
      "Function value obtained: -0.9811\n",
      "Current minimum: -0.9825\n",
      "Iteration No: 30 started. Searching for the next optimal point.\n",
      "[1.2414038702732344, 'linear', 0.3393374244282942] \n",
      "\n",
      "Iteration No: 30 ended. Search finished for the next optimal point.\n",
      "Time taken: 6.3128\n",
      "Function value obtained: -0.9811\n",
      "Current minimum: -0.9825\n",
      "Iteration No: 31 started. Searching for the next optimal point.\n",
      "[0.1, 'sigmoid', 10.0] \n",
      "\n",
      "Iteration No: 31 ended. Search finished for the next optimal point.\n",
      "Time taken: 3.6301\n",
      "Function value obtained: -0.9757\n",
      "Current minimum: -0.9825\n",
      "Iteration No: 32 started. Searching for the next optimal point.\n",
      "[0.8174085134932307, 'sigmoid', 2.919886252913412] \n",
      "\n",
      "Iteration No: 32 ended. Search finished for the next optimal point.\n",
      "Time taken: 3.1625\n",
      "Function value obtained: -0.9811\n",
      "Current minimum: -0.9825\n",
      "Iteration No: 33 started. Searching for the next optimal point.\n",
      "[4.274014341394088, 'linear', 1.7254949589599227] \n",
      "\n",
      "Iteration No: 33 ended. Search finished for the next optimal point.\n",
      "Time taken: 6.5940\n",
      "Function value obtained: -0.9811\n",
      "Current minimum: -0.9825\n",
      "Iteration No: 34 started. Searching for the next optimal point.\n",
      "[100.0, 'linear', 0.007515109279611237] \n",
      "\n",
      "Iteration No: 34 ended. Search finished for the next optimal point.\n",
      "Time taken: 6.7337\n",
      "Function value obtained: -0.9811\n",
      "Current minimum: -0.9825\n",
      "Iteration No: 35 started. Searching for the next optimal point.\n",
      "[0.28172423388245793, 'linear', 10.0] \n",
      "\n",
      "Iteration No: 35 ended. Search finished for the next optimal point.\n",
      "Time taken: 5.9066\n",
      "Function value obtained: -0.9717\n",
      "Current minimum: -0.9825\n",
      "Iteration No: 36 started. Searching for the next optimal point.\n",
      "[4.152696946297118, 'sigmoid', 0.5094624089434726] \n",
      "\n",
      "Iteration No: 36 ended. Search finished for the next optimal point.\n",
      "Time taken: 7.2646\n",
      "Function value obtained: -0.9811\n",
      "Current minimum: -0.9825\n",
      "Iteration No: 37 started. Searching for the next optimal point.\n",
      "[100.0, 'linear', 1.271460312746381] \n",
      "\n",
      "Iteration No: 37 ended. Search finished for the next optimal point.\n",
      "Time taken: 6.7708\n",
      "Function value obtained: -0.9811\n",
      "Current minimum: -0.9825\n",
      "Iteration No: 38 started. Searching for the next optimal point.\n",
      "[18.739027931464847, 'linear', 10.0] \n",
      "\n",
      "Iteration No: 38 ended. Search finished for the next optimal point.\n",
      "Time taken: 6.8887\n",
      "Function value obtained: -0.9811\n",
      "Current minimum: -0.9825\n",
      "Iteration No: 39 started. Searching for the next optimal point.\n",
      "[79.20078120703346, 'rbf', 0.3496389039892828] \n",
      "\n",
      "Iteration No: 39 ended. Search finished for the next optimal point.\n",
      "Time taken: 7.9733\n",
      "Function value obtained: -0.9811\n",
      "Current minimum: -0.9825\n",
      "Iteration No: 40 started. Searching for the next optimal point.\n",
      "[0.1, 'sigmoid', 2.504149398625346] \n",
      "\n",
      "Iteration No: 40 ended. Search finished for the next optimal point.\n",
      "Time taken: 6.1363\n",
      "Function value obtained: -0.9609\n",
      "Current minimum: -0.9825\n",
      "Iteration No: 41 started. Searching for the next optimal point.\n",
      "[26.236787305173067, 'linear', 0.004998837122434485] \n",
      "\n",
      "Iteration No: 41 ended. Search finished for the next optimal point.\n",
      "Time taken: 6.4944\n",
      "Function value obtained: -0.9811\n",
      "Current minimum: -0.9825\n",
      "Iteration No: 42 started. Searching for the next optimal point.\n",
      "[100.0, 'sigmoid', 0.06746366281931651] \n",
      "\n",
      "Iteration No: 42 ended. Search finished for the next optimal point.\n",
      "Time taken: 6.9260\n",
      "Function value obtained: -0.9811\n",
      "Current minimum: -0.9825\n",
      "Iteration No: 43 started. Searching for the next optimal point.\n",
      "[100.0, 'sigmoid', 0.07382665450463698] \n",
      "\n",
      "Iteration No: 43 ended. Search finished for the next optimal point.\n",
      "Time taken: 6.8810\n",
      "Function value obtained: -0.9811\n",
      "Current minimum: -0.9825\n",
      "Iteration No: 44 started. Searching for the next optimal point.\n",
      "[100.0, 'sigmoid', 0.09976766497670544] \n",
      "\n",
      "Iteration No: 44 ended. Search finished for the next optimal point.\n",
      "Time taken: 6.8013\n",
      "Function value obtained: -0.9811\n",
      "Current minimum: -0.9825\n",
      "Iteration No: 45 started. Searching for the next optimal point.\n",
      "[100.0, 'sigmoid', 0.0744893750336132] \n",
      "\n",
      "Iteration No: 45 ended. Search finished for the next optimal point.\n",
      "Time taken: 6.7716\n",
      "Function value obtained: -0.9811\n",
      "Current minimum: -0.9825\n"
     ]
    }
   ],
   "source": [
    "resultados_gp = gp_minimize(treinar_model_SVM, space, random_state=1, verbose =1, n_calls=45, n_random_starts=10)"
   ]
  },
  {
   "cell_type": "code",
   "execution_count": 50,
   "metadata": {},
   "outputs": [
    {
     "data": {
      "text/plain": [
       "[3.1543627291288514, 'sigmoid', 1.6654697554095277]"
      ]
     },
     "execution_count": 50,
     "metadata": {},
     "output_type": "execute_result"
    }
   ],
   "source": [
    "resultados_gp.x"
   ]
  },
  {
   "cell_type": "markdown",
   "metadata": {},
   "source": [
    "## Resultados"
   ]
  },
  {
   "cell_type": "markdown",
   "metadata": {},
   "source": [
    "Segundo os resultados do Bayesian Optimization o modelo SVM utilizando os parâmetros: C:3.1, Kernel: \"sigmoid\", gamma: 1.6 , teve o melhor resultado. Sendo assim será o modelo escolhido."
   ]
  },
  {
   "cell_type": "code",
   "execution_count": 51,
   "metadata": {},
   "outputs": [],
   "source": [
    "metricasSVM = dict()"
   ]
  },
  {
   "cell_type": "code",
   "execution_count": 76,
   "metadata": {},
   "outputs": [],
   "source": [
    "svm_model = svm.SVC(C = 3.16, kernel='sigmoid', gamma=1.7, random_state=27)\n",
    "svm_model.fit(Xtr, Ytr)\n",
    "Ypred_svm = svm_model.predict(Xte)\n",
    "labels_svm = svm_model.classes_\n",
    "registrar_metricas(metricasSVM, Yte, Ypred_svm, 'SVM_Sigmoid')\n",
    "matriz_confusao_svm = confusion_matrix(Yte, Ypred_svm, labels=labels_svm)"
   ]
  },
  {
   "cell_type": "code",
   "execution_count": 77,
   "metadata": {},
   "outputs": [
    {
     "data": {
      "text/html": [
       "<div>\n",
       "<style scoped>\n",
       "    .dataframe tbody tr th:only-of-type {\n",
       "        vertical-align: middle;\n",
       "    }\n",
       "\n",
       "    .dataframe tbody tr th {\n",
       "        vertical-align: top;\n",
       "    }\n",
       "\n",
       "    .dataframe thead th {\n",
       "        text-align: right;\n",
       "    }\n",
       "</style>\n",
       "<table border=\"1\" class=\"dataframe\">\n",
       "  <thead>\n",
       "    <tr style=\"text-align: right;\">\n",
       "      <th></th>\n",
       "      <th>acuracia</th>\n",
       "      <th>f1</th>\n",
       "      <th>precisao</th>\n",
       "      <th>revocacao</th>\n",
       "    </tr>\n",
       "  </thead>\n",
       "  <tbody>\n",
       "    <tr>\n",
       "      <th>SVM_Sigmoid</th>\n",
       "      <td>0.9825</td>\n",
       "      <td>0.9818</td>\n",
       "      <td>0.9824</td>\n",
       "      <td>0.9816</td>\n",
       "    </tr>\n",
       "  </tbody>\n",
       "</table>\n",
       "</div>"
      ],
      "text/plain": [
       "             acuracia      f1  precisao  revocacao\n",
       "SVM_Sigmoid    0.9825  0.9818    0.9824     0.9816"
      ]
     },
     "execution_count": 77,
     "metadata": {},
     "output_type": "execute_result"
    }
   ],
   "source": [
    "resultadosSVM = pd.DataFrame(metricasSVM).T\n",
    "resultadosSVM"
   ]
  },
  {
   "cell_type": "markdown",
   "metadata": {},
   "source": [
    "A matriz de confusão nos mostra um ótimo padrão, sendo observado apenas pequenos erros entre as categorias politics e business e tech, não sendo significante."
   ]
  },
  {
   "cell_type": "code",
   "execution_count": 78,
   "metadata": {},
   "outputs": [
    {
     "data": {
      "image/png": "[encoded data removed]",
      "text/plain": [
       "<Figure size 1296x720 with 2 Axes>"
      ]
     },
     "metadata": {
      "needs_background": "light"
     },
     "output_type": "display_data"
    }
   ],
   "source": [
    "plotar_matriz_confusao(matriz_confusao_svm, 'Matriz de Confusão para SVM', labels_nb)"
   ]
  },
  {
   "cell_type": "markdown",
   "metadata": {},
   "source": [
    "* Conseguimos chegar a um bom modelo, com boa acurácia e precisão.\n",
    "\n",
    "* Analisando a matriz de confusão é possível identificar que o modelo ainda está confundido notícias classificadas em tech e business. Esse comportamento já é esperado, visto que são assuntos muitos similares e com linguaguem parecida.\n"
   ]
  }
 ],
 "metadata": {
  "interpreter": {
   "hash": "69065b4d258869e7275e131b8703d705630216d2f4a25a70976180b0a6a24b94"
  },
  "kernelspec": {
   "display_name": "Python 3.8.10 64-bit",
   "name": "python3"
  },
  "language_info": {
   "codemirror_mode": {
    "name": "ipython",
    "version": 3
   },
   "file_extension": ".py",
   "mimetype": "text/x-python",
   "name": "python",
   "nbconvert_exporter": "python",
   "pygments_lexer": "ipython3",
   "version": "3.8.10"
  },
  "orig_nbformat": 4
 },
 "nbformat": 4,
 "nbformat_minor": 2
}
